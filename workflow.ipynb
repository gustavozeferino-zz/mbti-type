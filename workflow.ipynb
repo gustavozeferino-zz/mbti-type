{
 "cells": [
  {
   "cell_type": "code",
   "execution_count": 4,
   "metadata": {
    "collapsed": false
   },
   "outputs": [
    {
     "name": "stderr",
     "output_type": "stream",
     "text": [
      "C:\\Anaconda\\lib\\site-packages\\sklearn\\linear_model\\stochastic_gradient.py:84: FutureWarning: max_iter and tol parameters have been added in <class 'sklearn.linear_model.stochastic_gradient.SGDClassifier'> in 0.19. If both are left unset, they default to max_iter=5 and tol=None. If tol is not None, max_iter defaults to max_iter=1000. From 0.21, default max_iter will be 1000, and default tol will be 1e-3.\n  \"and default tol will be 1e-3.\" % type(self), FutureWarning)\n"
     ]
    },
    {
     "name": "stdout",
     "output_type": "stream",
     "text": [
      "      Classifier    LSA  Mean accuracy\n0  SGDClassifier  False       0.659820\n1  SGDClassifier   True       0.577243\n"
     ]
    }
   ],
   "source": [
    "import pandas as pd\n",
    "\n",
    "from sklearn.feature_extraction.text import TfidfVectorizer\n",
    "from sklearn.decomposition import TruncatedSVD\n",
    "\n",
    "from sklearn.pipeline import Pipeline\n",
    "from sklearn.model_selection import cross_val_score\n",
    "\n",
    "from sklearn.linear_model import SGDClassifier\n",
    "from sklearn.naive_bayes import GaussianNB\n",
    "from sklearn.ensemble import RandomForestClassifier\n",
    "from sklearn.ensemble import ExtraTreesClassifier\n",
    "from sklearn.tree import DecisionTreeClassifier\n",
    "\n",
    "\n",
    "\n",
    "dataset_filename = 'C:/GitHub/mbti-type/mbti_1.csv'\n",
    "\n",
    "# ja possui headers 'type' e 'posts'\n",
    "mbti = pd.read_csv(dataset_filename)\n",
    "mbti.head()\n",
    "\n",
    "#replacing separator |||\n",
    "\n",
    "for i in range(mbti.shape[0]):\n",
    "    mbti.loc[i, 'posts'] = mbti.loc[i, 'posts'].replace('|||', ' ')\n",
    "\n",
    "\n",
    "def test_classifier(classifier, name,  X, y, lsa=False):\n",
    "\n",
    "    tfidf_model = TfidfVectorizer(smooth_idf=True,\n",
    "                              sublinear_tf=True,\n",
    "                              lowercase=True,\n",
    "                              stop_words='english')\n",
    "\n",
    "    if lsa:\n",
    "        lsa_model = TruncatedSVD(n_components=50)    \n",
    "\n",
    "        model= Pipeline([\n",
    "            ('tfidf', tfidf_model),\n",
    "            ('lsa', lsa_model),\n",
    "            ('classifier', classifier)])\n",
    "    else:\n",
    "        model= Pipeline([\n",
    "            ('tfidf', tfidf_model),\n",
    "            ('classifier', classifier)])\n",
    "        \n",
    "    accuracy = cross_val_score(estimator=model,\n",
    "                               X=X,\n",
    "                               y=y,\n",
    "                               scoring='accuracy',\n",
    "                               cv=5,\n",
    "                               n_jobs=-1)\n",
    "\n",
    "        \n",
    "    return([name, lsa, accuracy.mean()])\n",
    "\n",
    "\n",
    "classifiers = [\n",
    "        (GaussianNB(), 'GaussianNB'),\n",
    "        (SGDClassifier(), 'SGDClassifier'),\n",
    "        (RandomForestClassifier(), 'RandomForestClassifier'),\n",
    "        (ExtraTreesClassifier(), 'ExtraTreesClassifier'),\n",
    "        (DecisionTreeClassifier(), 'DecisionTreeClassifier')\n",
    "        ]\n",
    "\n",
    "results = pd.DataFrame(columns=('Classifier', 'LSA', 'Mean accuracy'))\n",
    "k = 0\n",
    "\n",
    "for classifier, name in classifiers:\n",
    "    try:\n",
    "        results.loc[k] = test_classifier(\n",
    "                classifier=classifier, \n",
    "                name=name, \n",
    "                X=mbti['posts'], \n",
    "                y=mbti['type'], \n",
    "                lsa=False)\n",
    "        k += 1\n",
    "        \n",
    "    except Exception:\n",
    "        pass\n",
    "\n",
    "print(results)\n",
    "    \n",
    "\n"
   ]
  },
  {
   "cell_type": "code",
   "execution_count": null,
   "metadata": {},
   "outputs": [],
   "source": []
  }
 ],
 "metadata": {
  "kernelspec": {
   "display_name": "Python 2",
   "language": "python",
   "name": "python2"
  },
  "language_info": {
   "codemirror_mode": {
    "name": "ipython",
    "version": 2
   },
   "file_extension": ".py",
   "mimetype": "text/x-python",
   "name": "python",
   "nbconvert_exporter": "python",
   "pygments_lexer": "ipython2",
   "version": "2.7.6"
  }
 },
 "nbformat": 4,
 "nbformat_minor": 0
}
