{
 "cells": [
  {
   "cell_type": "code",
   "execution_count": 2,
   "metadata": {
    "collapsed": true
   },
   "outputs": [],
   "source": [
    "import pandas as pd\n",
    "\n",
    "from sklearn.feature_extraction.text import TfidfVectorizer\n",
    "from sklearn.decomposition import TruncatedSVD\n",
    "\n",
    "from sklearn.linear_model import SGDClassifier\n",
    "\n",
    "\n",
    "dataset_filename = 'C:/GitHub/mbti-type/mbti_1.csv'\n",
    "\n",
    "# ja possui headers 'type' e 'posts'\n",
    "mbti = pd.read_csv(dataset_filename)\n",
    "mbti.head()\n",
    "\n",
    "#replacing separator |||\n",
    "\n",
    "for i in range(mbti.shape[0]):\n",
    "    mbti.loc[i, 'posts'] = mbti.loc[i, 'posts'].replace('|||', ' ')\n",
    "\n",
    "# TF-IDF scoring\n",
    "\n",
    "tfidf_model = TfidfVectorizer(smooth_idf=True,\n",
    "                              sublinear_tf=False,\n",
    "                              lowercase=True,\n",
    "                              stop_words='english')\n",
    "\n",
    "lsa = TruncatedSVD(n_components=200)\n",
    "\n",
    "# testing classifiers - Gradient Descent \n",
    "\n",
    "\n",
    "classifier = SGDClassifier()\n",
    "\n",
    "model = Pipeline([\n",
    "        ('tfidf', tfidf_model),\n",
    "        ('classifier', classifier)])\n",
    "\n",
    "accuracy = cross_val_score(estimator=model,\n",
    "                           X=mbti['posts'],\n",
    "                           y=mbti['type'],\n",
    "                           scoring='accuracy',\n",
    "                           cv=5,\n",
    "                           n_jobs=-1)\n",
    "print(accuracy)\n",
    "accuracy.mean()\n",
    "\n",
    "\n",
    "\n"
   ]
  }
 ],
 "metadata": {
  "kernelspec": {
   "display_name": "Python 2",
   "language": "python",
   "name": "python2"
  },
  "language_info": {
   "codemirror_mode": {
    "name": "ipython",
    "version": 2
   },
   "file_extension": ".py",
   "mimetype": "text/x-python",
   "name": "python",
   "nbconvert_exporter": "python",
   "pygments_lexer": "ipython2",
   "version": "2.7.6"
  }
 },
 "nbformat": 4,
 "nbformat_minor": 0
}
